{
 "cells": [
  {
   "cell_type": "code",
   "execution_count": 23,
   "id": "aefd3e13",
   "metadata": {},
   "outputs": [],
   "source": [
    "import numpy as np\n",
    "import matplotlib.pyplot as plt\n",
    "import tensorflow.keras as keras\n",
    "import matplotlib.pyplot as plt\n",
    "from sklearn.model_selection import KFold\n",
    "\n",
    "%matplotlib inline"
   ]
  },
  {
   "cell_type": "markdown",
   "id": "2e568259",
   "metadata": {},
   "source": [
    "# Generate Kuzushiji images"
   ]
  },
  {
   "cell_type": "markdown",
   "id": "9f9c572c",
   "metadata": {},
   "source": [
    "### Create z-vector to sample digit from latent space"
   ]
  },
  {
   "cell_type": "markdown",
   "id": "48e71298",
   "metadata": {},
   "source": [
    "First, we need to define the region of latent space in which we are sampling images for our digit. The construct_numvec function creates the z-vector that specifies this region for either the latent space for KMNIST or the latent space for K49. Additionally, it appends a one-hot encoding of the class label of the kuzushiji character we want to generate. For example, if we have a z-vector [0, 1, 1, 1, 0, 1, 0, 1, 0, 0] and we want to generate the third character from the KMNIST data set, the one-hot encoding of the third character would be [0, 0, 1, 0, 0, 0, 0, 0, 0, 0], and that would be concatenated to the z-vector."
   ]
  },
  {
   "cell_type": "code",
   "execution_count": 24,
   "id": "2734356e",
   "metadata": {},
   "outputs": [],
   "source": [
    "def construct_numvec(digit: int, latent_dim: int=10, classes: int=10, z: list=None) -> list:\n",
    "    \"\"\"\n",
    "        digit: int -> the class of the kuzushiji character to be generated\n",
    "        latent_dim: int -> the number of dimensions in the latent space: equal to the number of classes\n",
    "        classes: int -> the number of class labels for a given model (10 for KMNIST, 49 for K49)\n",
    "        z: list -> the z-vector indicating the position in latent space to sample an character\n",
    "    \"\"\"\n",
    "    \n",
    "    out = np.zeros((1, latent_dim + classes))\n",
    "    out[:, digit + latent_dim] = 1.\n",
    "    if z is None:\n",
    "        return(out)\n",
    "    else:\n",
    "        for i in range(len(z)):\n",
    "            out[:,i] = z[i]\n",
    "        return(out)"
   ]
  },
  {
   "cell_type": "markdown",
   "id": "4883ae86",
   "metadata": {},
   "source": [
    "Next, we need to define a function that generates images for a specified digit. This function will receive arguments to define the number of rows and cols in the latent space we want sample from"
   ]
  },
  {
   "cell_type": "code",
   "execution_count": 26,
   "id": "2cf9baa7",
   "metadata": {},
   "outputs": [],
   "source": [
    "def generate_images(digit: int=0, rows: int=10, cols: int=10, max_z: float=1.5, decoder: int=0, save_fig: bool=False) -> np.ndarray:\n",
    "    \"\"\" Return an array\n",
    "    \n",
    "            digit: int -> the class of the kuzushiji character to be generated\n",
    "            rows: int -> the width of the latent space\n",
    "            cols: int -> the height of the latent space\n",
    "            max_z: float ->\n",
    "            decoder: int -> the generator to be used to create augmented data (0 for K49, 1 for KMNIST)\n",
    "            save_fig: bool -> determines if an image of the augmented data should be created\n",
    "    \"\"\"\n",
    "    \n",
    "    images = []\n",
    "    \n",
    "    if decoder:\n",
    "        decoder = keras.models.load_model(\"decoder-KMNIST\")\n",
    "        latent_dim = 10\n",
    "        classes = 10\n",
    "    else:\n",
    "        decoder = keras.models.load_model(\"decoder-K49\")\n",
    "        latent_dim = 49\n",
    "        classes = 49\n",
    "\n",
    "    if save_fig:\n",
    "        fig, axs = plt.subplots(rows, cols)\n",
    "        fig.set_figwidth(28)\n",
    "        fig.set_figheight(28)\n",
    "\n",
    "    for i in range(0, rows):\n",
    "        z1 = (((i / (rows-1)) * max_z)*2) - max_z\n",
    "        for j in range(0, cols):\n",
    "            z2 = (((j / (cols-1)) * max_z)*2) - max_z\n",
    "            z_ = [z1, z2]\n",
    "            vec = construct_numvec(digit, 10, 10, z_)\n",
    "            decoded = decoder.predict(vec)\n",
    "            images.append(decoded.reshape(28,28))\n",
    "            if save_fig:\n",
    "                axs[i, j].imshow(decoded.reshape(28,28), cmap=plt.cm.gray)\n",
    "                axs[i, j].axis('off')\n",
    "    \n",
    "    if save_fig:\n",
    "        fig.savefig(\"image_%d_%d_%d.png\" % (digit, rows, cols))\n",
    "        \n",
    "    return np.array(images)"
   ]
  },
  {
   "cell_type": "code",
   "execution_count": 27,
   "id": "890bf8d0",
   "metadata": {},
   "outputs": [
    {
     "name": "stdout",
     "output_type": "stream",
     "text": [
      "WARNING:tensorflow:No training configuration found in save file, so the model was *not* compiled. Compile it manually.\n"
     ]
    }
   ],
   "source": [
    "# Generate some example images of the first class for KMNIST\n",
    "aug_data = generate_images(digit=0, rows=10, cols=10, max_z=1.5, decoder=1, save_fig=False)"
   ]
  },
  {
   "cell_type": "code",
   "execution_count": 5,
   "id": "8fe8c17d",
   "metadata": {},
   "outputs": [
    {
     "data": {
      "text/plain": [
       "(100, 28, 28)"
      ]
     },
     "execution_count": 5,
     "metadata": {},
     "output_type": "execute_result"
    }
   ],
   "source": [
    "aug_data.shape"
   ]
  },
  {
   "cell_type": "markdown",
   "id": "6cb04abd",
   "metadata": {},
   "source": [
    "### Generate images from latent space for KMNIST or K49"
   ]
  },
  {
   "cell_type": "markdown",
   "id": "e33aaf5f",
   "metadata": {},
   "source": [
    "Let's generate some augmented data to train with. We'll start off with creating 100 sample images from each class of KMNIST. Feel free to change the number of images generated by altering the number of rows and columns. Additionally, feel free to change the model to K49 to find out how well it trains with the augmented data."
   ]
  },
  {
   "cell_type": "code",
   "execution_count": 6,
   "id": "c05ab9c5",
   "metadata": {},
   "outputs": [],
   "source": [
    "def generate_aug_kmnist():\n",
    "    images = generate_images(digit=0, rows=10, cols=10, max_z=1.5, decoder=1)\n",
    "    labels = []\n",
    "    labels.append([0 for x in range(10) for y in range(10)])\n",
    "    for digit in range(1,10):\n",
    "        aug_data = generate_images(digit=digit, rows=10, cols=10, max_z=1.5, decoder=1)\n",
    "        images = np.concatenate((images, aug_data), axis=0)\n",
    "        labels.append([digit for x in range(10) for y in range(10)])\n",
    "        \n",
    "    return images, np.array(labels).flatten()\n",
    "    \n",
    "def generate_aug_k49():\n",
    "    images = generate_images(digit=0, rows=10, cols=10, max_z=1.5, decoder=0)\n",
    "    labels = []\n",
    "    labels.append([digit for x in range(49) for y in range(49)])\n",
    "    for digit in range(1,49):\n",
    "        aug_data = generate_images(digit=digit, rows=10, cols=10, max_z=1.5, decoder=0)\n",
    "        images = np.concatenate((images, aug_data), axis=0)\n",
    "        labels.append([0 for x in range(49) for y in range(49)])\n",
    "        \n",
    "    return images, np.array(labels).flatten()"
   ]
  },
  {
   "cell_type": "code",
   "execution_count": 8,
   "id": "0a80f14c",
   "metadata": {},
   "outputs": [
    {
     "name": "stdout",
     "output_type": "stream",
     "text": [
      "WARNING:tensorflow:No training configuration found in save file, so the model was *not* compiled. Compile it manually.\n",
      "WARNING:tensorflow:No training configuration found in save file, so the model was *not* compiled. Compile it manually.\n",
      "WARNING:tensorflow:No training configuration found in save file, so the model was *not* compiled. Compile it manually.\n",
      "WARNING:tensorflow:No training configuration found in save file, so the model was *not* compiled. Compile it manually.\n",
      "WARNING:tensorflow:No training configuration found in save file, so the model was *not* compiled. Compile it manually.\n",
      "WARNING:tensorflow:No training configuration found in save file, so the model was *not* compiled. Compile it manually.\n",
      "WARNING:tensorflow:No training configuration found in save file, so the model was *not* compiled. Compile it manually.\n",
      "WARNING:tensorflow:No training configuration found in save file, so the model was *not* compiled. Compile it manually.\n",
      "WARNING:tensorflow:No training configuration found in save file, so the model was *not* compiled. Compile it manually.\n",
      "WARNING:tensorflow:No training configuration found in save file, so the model was *not* compiled. Compile it manually.\n"
     ]
    }
   ],
   "source": [
    "aug_kmnist_data, aug_kmnist_labels = generate_aug_kmnist()"
   ]
  },
  {
   "cell_type": "markdown",
   "id": "4eba17b4",
   "metadata": {},
   "source": [
    "### Define CNN model and set up training"
   ]
  },
  {
   "cell_type": "markdown",
   "id": "fb89b914",
   "metadata": {},
   "source": [
    "Let's define the CNN model we'll use to evaluate the quality of the augmented data. The functions below define the CNN model, the training process, and evaluation process."
   ]
  },
  {
   "cell_type": "code",
   "execution_count": null,
   "id": "61744442",
   "metadata": {},
   "outputs": [],
   "source": [
    "# define cnn model\n",
    "def define_model(kmnist=True):\n",
    "    \"\"\"\n",
    "        kmnist: bool -> specifies whether the CNN model to be constructed should be for KMNIST(True) or K49(False)\n",
    "    \"\"\"\n",
    "    model = keras.models.Sequential()\n",
    "    \n",
    "    if kmnist:\n",
    "        model.add(keras.layers.Conv2D(32, (3, 3), activation='relu', kernel_initializer='he_uniform', input_shape=(28, 28, 1)))\n",
    "        model.add(keras.layers.MaxPooling2D((2, 2)))\n",
    "        model.add(keras.layers.Conv2D(64, (3, 3), activation='relu', kernel_initializer='he_uniform'))\n",
    "        model.add(keras.layers.Conv2D(64, (3, 3), activation='relu', kernel_initializer='he_uniform'))\n",
    "        model.add(keras.layers.MaxPooling2D((2, 2)))\n",
    "        model.add(keras.layers.Flatten())\n",
    "        model.add(keras.layers.Dense(100, activation='relu', kernel_initializer='he_uniform'))\n",
    "        model.add(keras.layers.Dense(10, activation='softmax'))\n",
    "        \n",
    "    else:\n",
    "        model.add(keras.layers.Conv2D(32, (3, 3), activation='relu', kernel_initializer='he_uniform', input_shape=(28, 28, 1)))\n",
    "        model.add(keras.layers.MaxPooling2D((2, 2)))\n",
    "        model.add(keras.layers.Conv2D(64, (3, 3), activation='relu', kernel_initializer='he_uniform'))\n",
    "        model.add(keras.layers.Conv2D(64, (3, 3), activation='relu', kernel_initializer='he_uniform'))\n",
    "        model.add(keras.layers.MaxPooling2D((2, 2)))\n",
    "        model.add(keras.layers.Flatten())\n",
    "        model.add(keras.layers.Dense(100, activation='relu', kernel_initializer='he_uniform'))\n",
    "        model.add(keras.layers.Dense(49, activation='softmax'))\n",
    "        \n",
    "    # compile model\n",
    "    opt = keras.optimizers.SGD(learning_rate=0.01, momentum=0.9)\n",
    "    model.compile(optimizer=opt, loss='categorical_crossentropy', metrics=['accuracy'])\n",
    "    return model\n",
    " \n",
    "# evaluate a model using k-fold cross-validation\n",
    "def evaluate_model(dataX, dataY, X_test, n_folds=1, kmnist=True):\n",
    "    scores, histories, predictions = list(), list(), list()\n",
    "    callback = keras.callbacks.EarlyStopping(monitor='val_loss', mode='min', patience=5)\n",
    "    \n",
    "    # If n_folds equals 1, do not perform cross-validation\n",
    "    # Otherwise, implement cross-validation\n",
    "    if n_folds > 1:\n",
    "        # prepare cross validation\n",
    "        kfold = KFold(n_folds, shuffle=True, random_state=1)\n",
    "        i = 1\n",
    "        for train_ix, test_ix in kfold.split(dataX):\n",
    "            print(\"- - - - -\\nFold %d\\n- - - - -\" % i)\n",
    "            # define model\n",
    "            model = define_model(kmnist)\n",
    "            # select rows for train and test\n",
    "            trainX, trainY, testX, testY = dataX[train_ix], dataY[train_ix], dataX[test_ix], dataY[test_ix]\n",
    "\n",
    "            # fit model\n",
    "            history = model.fit(trainX, trainY, epochs=10, batch_size=128, validation_data=(testX, testY), callbacks=[callback], verbose=1)\n",
    "            # evaluate model\n",
    "            _, acc = model.evaluate(testX, testY, verbose=0)\n",
    "            print('> %.3f\\n' % (acc * 100.0))\n",
    "            prediction = model.predict(X_test)\n",
    "\n",
    "            # Save validation loss, accuracies, and predictions\n",
    "            scores.append(acc)\n",
    "            histories.append(history)\n",
    "            predictions.append(prediction)\n",
    "\n",
    "            i += 1\n",
    "\n",
    "        return scores, histories, predictions\n",
    "    \n",
    "    \n",
    "        # define model\n",
    "        model = define_model(kmnist)\n",
    "        # select rows for train and test\n",
    "        trainX, trainY, testX, testY = dataX[train_ix], dataY[train_ix], dataX[test_ix], dataY[test_ix]\n",
    "\n",
    "        # fit model\n",
    "        history = model.fit(trainX, trainY, epochs=10, batch_size=128, validation_data=(testX, testY), callbacks=[callback], verbose=1)\n",
    "        # evaluate model\n",
    "        _, acc = model.evaluate(testX, testY, verbose=0)\n",
    "        print('> %.3f\\n' % (acc * 100.0))\n",
    "        prediction = model.predict(X_test)\n",
    "\n",
    "        # Save validation loss, accuracies, and predictions\n",
    "        scores.append(acc)\n",
    "        histories.append(history)\n",
    "        predictions.append(prediction)\n",
    "    \n",
    "    return scores, histories, predictions\n",
    "    \n",
    "    \n",
    "def summarize_diagnostics(histories):\n",
    "    for i in range(len(histories)):\n",
    "        # plot loss\n",
    "        plt.subplot(2, 1, 1)\n",
    "        plt.title('Cross Entropy Loss')\n",
    "        plt.plot(histories[i].history['loss'], color='blue', label='train')\n",
    "        plt.plot(histories[i].history['val_loss'], color='orange', label='test')\n",
    "        # plot accuracy\n",
    "        plt.subplot(2, 1, 2)\n",
    "        plt.title('Classification Accuracy')\n",
    "        plt.plot(histories[i].history['accuracy'], color='blue', label='train')\n",
    "        plt.plot(histories[i].history['val_accuracy'], color='orange', label='test')\n",
    "    plt.show()\n",
    "\n",
    "def summarize_performance(scores):\n",
    "    # print summary\n",
    "    print('Accuracy: mean=%.3f std=%.3f, n=%d' % (np.mean(scores)*100, np.std(scores)*100, len(scores)))\n",
    "    # box and whisker plots of results\n",
    "    plt.boxplot(scores)\n",
    "    plt.show()\n",
    "\n",
    "def run_test_harness(trainX, trainY, testX, testY, n_folds=1, kmnist=True):\n",
    "    # evaluate model\n",
    "    scores, histories, predictions = evaluate_model(trainX, trainY, testX, n_folds=n_folds, kmnist=kmnist)\n",
    "    # learning curves\n",
    "    summarize_diagnostics(histories)\n",
    "    # summarize estimated performance\n",
    "    summarize_performance(scores)"
   ]
  },
  {
   "cell_type": "markdown",
   "id": "8bc1aa4f",
   "metadata": {},
   "source": [
    "### Load Kuzushiji data set and pre-process"
   ]
  },
  {
   "cell_type": "markdown",
   "id": "e43d08f0",
   "metadata": {},
   "source": [
    "Before we train, we need to load our data set that will be used to train the CNN model. For now, we'll start with using KMNIST. When we load the KMNIST data set, we will normalize the original and augmented data and then concatenate them together to form the new training set."
   ]
  },
  {
   "cell_type": "code",
   "execution_count": 28,
   "id": "77b0707d",
   "metadata": {},
   "outputs": [],
   "source": [
    "# scale pixels\n",
    "def prep_pixels(train, *args):\n",
    "    # convert from integers to floats\n",
    "    train_norm = train.astype('float32')\n",
    "    test_norm = None\n",
    "    if len(args) == 1:\n",
    "        test_norm = args[0].astype('float32')\n",
    "    # normalize to range 0-1\n",
    "    train_norm = train_norm / 255.0\n",
    "    if len(args) == 1:\n",
    "        test_norm = test_norm / 255.0\n",
    "    # return normalized images\n",
    "    return train_norm, test_norm\n",
    "\n",
    "# load train and test dataset\n",
    "def load_dataset(kmnist=True):\n",
    "    \n",
    "    if kmnist:\n",
    "        # Load the KMNIST data set\n",
    "        training_data_files = \"./dataset/kmnist-train-imgs.npz\"\n",
    "        testing_data_files = \"./dataset/kmnist-test-imgs.npz\"\n",
    "        training_label_files = \"./dataset/kmnist-train-labels.npz\"\n",
    "        testing_label_files = \"./dataset/kmnist-test-labels.npz\"\n",
    "        \n",
    "        (trainX, trainY) = np.load(training_data_files)[\"arr_0\"], np.load(training_label_files)[\"arr_0\"]\n",
    "        (testX, testY) = np.load(testing_data_files)[\"arr_0\"], np.load(testing_label_files)[\"arr_0\"]\n",
    "\n",
    "        # Reshape the images for training \n",
    "        trainX = trainX.reshape((trainX.shape[0], 28, 28, 1))\n",
    "        testX = testX.reshape((testX.shape[0], 28, 28, 1))\n",
    "        \n",
    "        # Convert class labels into one-hot encoding vectors\n",
    "        trainY, testY = keras.utils.to_categorical(trainY, num_classes=10), keras.utils.to_categorical(testY, num_classes=10)\n",
    "        \n",
    "        # prepare pixel data\n",
    "        trainX, testX = prep_pixels(trainX, testX)\n",
    "        \n",
    "        # Concatenate original KMNIST data with augmented data\n",
    "        trainX = np.concatenate((trainX, aug_kmnist_data), axis=0)\n",
    "        trainY = np.concatenate((trainY, aug_kmnist_labels_1h), axis=0)\n",
    "\n",
    "        return trainX, trainY, testX, testY\n",
    "    \n",
    "    # Load the K49 data set\n",
    "    training_data_files = \"./dataset/k49-train-imgs.npz\"\n",
    "    testing_data_files = \"./dataset/k49-test-imgs.npz\"\n",
    "    training_label_files = \"./dataset/k49-train-labels.npz\"\n",
    "    testing_label_files = \"./dataset/k49-test-labels.npz\"\n",
    "    \n",
    "    (trainX, trainY) = np.load(training_data_files)[\"arr_0\"], np.load(training_label_files)[\"arr_0\"]\n",
    "    (testX, testY) = np.load(testing_data_files)[\"arr_0\"], np.load(testing_label_files)[\"arr_0\"]\n",
    "    \n",
    "    trainX = trainX.reshape((trainX.shape[0], 28, 28, 1))\n",
    "    testX = testX.reshape((testX.shape[0], 28, 28, 1))\n",
    "    trainY, testY = keras.utils.to_categorical(trainY, num_classes=49), keras.utils.to_categorical(testY, num_classes=49)\n",
    "    \n",
    "    # prepare pixel data\n",
    "    trainX, testX = prep_pixels(trainX, testX)\n",
    "    \n",
    "    # Concatenate original K49 data with augmented data\n",
    "    trainX = np.concatenate((trainX, aug_kmnist_data), axis=0)\n",
    "    trainY = np.concatenate((trainY, aug_kmnist_labels_1h), axis=0)\n",
    "    \n",
    "    return trainX, trainY, testX, testY\n"
   ]
  },
  {
   "cell_type": "code",
   "execution_count": 10,
   "id": "4bf4b9c1",
   "metadata": {},
   "outputs": [],
   "source": [
    "aug_kmnist_data, _ = prep_pixels(aug_kmnist_data)\n",
    "aug_kmnist_data = aug_kmnist_data.reshape((aug_kmnist_data.shape[0], 28, 28, 1))"
   ]
  },
  {
   "cell_type": "code",
   "execution_count": 11,
   "id": "e6ec9856",
   "metadata": {},
   "outputs": [
    {
     "data": {
      "text/plain": [
       "array([[1., 0., 0., ..., 0., 0., 0.],\n",
       "       [1., 0., 0., ..., 0., 0., 0.],\n",
       "       [1., 0., 0., ..., 0., 0., 0.],\n",
       "       ...,\n",
       "       [0., 0., 0., ..., 0., 0., 1.],\n",
       "       [0., 0., 0., ..., 0., 0., 1.],\n",
       "       [0., 0., 0., ..., 0., 0., 1.]], dtype=float32)"
      ]
     },
     "execution_count": 11,
     "metadata": {},
     "output_type": "execute_result"
    }
   ],
   "source": [
    "unique = np.unique(aug_kmnist_labels)\n",
    "aug_kmnist_labels_1h = keras.utils.to_categorical(aug_kmnist_labels, num_classes=len(unique))\n",
    "aug_kmnist_labels_1h"
   ]
  },
  {
   "cell_type": "code",
   "execution_count": null,
   "id": "3628bf0a",
   "metadata": {},
   "outputs": [],
   "source": [
    "# load dataset\n",
    "trainX, trainY, testX, testY = load_dataset(kmnist=True)"
   ]
  },
  {
   "cell_type": "markdown",
   "id": "e97e46ea",
   "metadata": {},
   "source": [
    "### Run Demo"
   ]
  },
  {
   "cell_type": "markdown",
   "id": "0e9f65ef",
   "metadata": {},
   "source": [
    "Now it's time to run! Run the function below and observe the progress of the CNN models as they train with the augmented data. If you want to train with the K49 data set, make sure to switch the kmnist argument from True to False, and remember to make changes to the code above as well to load the K49 data set."
   ]
  },
  {
   "cell_type": "code",
   "execution_count": 21,
   "id": "b4fbca3b",
   "metadata": {},
   "outputs": [
    {
     "name": "stdout",
     "output_type": "stream",
     "text": [
      "- - - - -\n",
      "Fold 1\n",
      "- - - - -\n",
      "Epoch 1/10\n",
      "235/235 [==============================] - 15s 62ms/step - loss: 0.6368 - accuracy: 0.7982 - val_loss: 0.2657 - val_accuracy: 0.9204\n",
      "Epoch 2/10\n",
      "235/235 [==============================] - 14s 60ms/step - loss: 0.2126 - accuracy: 0.9365 - val_loss: 0.1905 - val_accuracy: 0.9407\n",
      "Epoch 3/10\n",
      "235/235 [==============================] - 15s 62ms/step - loss: 0.1440 - accuracy: 0.9551 - val_loss: 0.1475 - val_accuracy: 0.9546\n",
      "Epoch 4/10\n",
      "235/235 [==============================] - 15s 63ms/step - loss: 0.1032 - accuracy: 0.9696 - val_loss: 0.1474 - val_accuracy: 0.9545\n",
      "Epoch 5/10\n",
      "235/235 [==============================] - 15s 63ms/step - loss: 0.0811 - accuracy: 0.9756 - val_loss: 0.1278 - val_accuracy: 0.9607\n",
      "Epoch 6/10\n",
      "235/235 [==============================] - 15s 66ms/step - loss: 0.0585 - accuracy: 0.9816 - val_loss: 0.1475 - val_accuracy: 0.9579\n",
      "Epoch 7/10\n",
      "235/235 [==============================] - 15s 64ms/step - loss: 0.0496 - accuracy: 0.9853 - val_loss: 0.1262 - val_accuracy: 0.9632\n",
      "Epoch 8/10\n",
      "235/235 [==============================] - 15s 62ms/step - loss: 0.0355 - accuracy: 0.9899 - val_loss: 0.1300 - val_accuracy: 0.9634\n",
      "Epoch 9/10\n",
      "235/235 [==============================] - 15s 63ms/step - loss: 0.0284 - accuracy: 0.9915 - val_loss: 0.1184 - val_accuracy: 0.9689\n",
      "Epoch 10/10\n",
      "235/235 [==============================] - 15s 62ms/step - loss: 0.0169 - accuracy: 0.9958 - val_loss: 0.1274 - val_accuracy: 0.9672\n",
      "> 96.717\n",
      "\n",
      "- - - - -\n",
      "Fold 2\n",
      "- - - - -\n",
      "Epoch 1/10\n",
      "235/235 [==============================] - 15s 62ms/step - loss: 0.6084 - accuracy: 0.8106 - val_loss: 0.2882 - val_accuracy: 0.9108\n",
      "Epoch 2/10\n",
      "235/235 [==============================] - 15s 64ms/step - loss: 0.2092 - accuracy: 0.9379 - val_loss: 0.1933 - val_accuracy: 0.9414\n",
      "Epoch 3/10\n",
      "235/235 [==============================] - 15s 63ms/step - loss: 0.1389 - accuracy: 0.9583 - val_loss: 0.1710 - val_accuracy: 0.9489\n",
      "Epoch 4/10\n",
      "235/235 [==============================] - 15s 62ms/step - loss: 0.1011 - accuracy: 0.9694 - val_loss: 0.1305 - val_accuracy: 0.9604\n",
      "Epoch 5/10\n",
      "235/235 [==============================] - 15s 62ms/step - loss: 0.0747 - accuracy: 0.9763 - val_loss: 0.1178 - val_accuracy: 0.9656\n",
      "Epoch 6/10\n",
      "235/235 [==============================] - 15s 63ms/step - loss: 0.0578 - accuracy: 0.9820 - val_loss: 0.1156 - val_accuracy: 0.9672\n",
      "Epoch 7/10\n",
      "235/235 [==============================] - 15s 63ms/step - loss: 0.0408 - accuracy: 0.9875 - val_loss: 0.1241 - val_accuracy: 0.9654\n",
      "Epoch 8/10\n",
      "235/235 [==============================] - 15s 63ms/step - loss: 0.0302 - accuracy: 0.9911 - val_loss: 0.1126 - val_accuracy: 0.9699\n",
      "Epoch 9/10\n",
      "235/235 [==============================] - 15s 63ms/step - loss: 0.0211 - accuracy: 0.9945 - val_loss: 0.1277 - val_accuracy: 0.9660\n",
      "Epoch 10/10\n",
      "235/235 [==============================] - 15s 63ms/step - loss: 0.0155 - accuracy: 0.9958 - val_loss: 0.1182 - val_accuracy: 0.9695\n",
      "> 96.950\n",
      "\n"
     ]
    },
    {
     "data": {
      "image/png": "[encoded data removed]",
      "text/plain": [
       "<Figure size 432x288 with 2 Axes>"
      ]
     },
     "metadata": {
      "needs_background": "light"
     },
     "output_type": "display_data"
    },
    {
     "name": "stdout",
     "output_type": "stream",
     "text": [
      "Accuracy: mean=96.833 std=0.117, n=2\n"
     ]
    },
    {
     "data": {
      "image/png": "[encoded data removed]",
      "text/plain": [
       "<Figure size 432x288 with 1 Axes>"
      ]
     },
     "metadata": {
      "needs_background": "light"
     },
     "output_type": "display_data"
    },
    {
     "data": {
      "text/plain": [
       "([0.9671666622161865, 0.9695000052452087],\n",
       " [<tensorflow.python.keras.callbacks.History at 0x21481324b50>,\n",
       "  <tensorflow.python.keras.callbacks.History at 0x214f9909910>],\n",
       " [array([[5.3523305e-05, 1.8305156e-01, 1.0850711e-01, ..., 1.4126401e-04,\n",
       "          1.8605495e-04, 1.4916954e-02],\n",
       "         [1.6821713e-07, 2.0846078e-04, 3.5683294e-09, ..., 7.0132232e-06,\n",
       "          1.3834260e-09, 9.9977475e-01],\n",
       "         [1.2343900e-11, 1.1290637e-12, 1.6536407e-07, ..., 4.0011917e-12,\n",
       "          3.7642014e-09, 1.2191615e-12],\n",
       "         ...,\n",
       "         [6.7622139e-05, 6.6533263e-05, 4.6973680e-03, ..., 2.6276721e-06,\n",
       "          4.5634774e-08, 9.9435848e-01],\n",
       "         [6.2821168e-03, 1.2405485e-06, 1.7261277e-06, ..., 9.3315639e-06,\n",
       "          1.8565377e-03, 2.9651010e-05],\n",
       "         [1.3019263e-08, 5.8324408e-04, 5.6392598e-01, ..., 5.5278875e-02,\n",
       "          1.1114673e-06, 3.8182892e-02]], dtype=float32),\n",
       "  array([[9.2954224e-07, 6.7357269e-06, 9.7212797e-01, ..., 1.9290805e-04,\n",
       "          5.9880695e-06, 1.1075543e-05],\n",
       "         [1.2322989e-09, 5.9352267e-12, 5.9508249e-08, ..., 1.1296559e-07,\n",
       "          3.3764623e-11, 9.9999893e-01],\n",
       "         [1.9241886e-13, 2.3417851e-13, 3.3348797e-06, ..., 2.3908171e-09,\n",
       "          2.2221369e-09, 1.3831934e-11],\n",
       "         ...,\n",
       "         [6.4284826e-08, 3.0512584e-09, 3.2009644e-04, ..., 6.0201715e-09,\n",
       "          3.6760790e-09, 9.9967396e-01],\n",
       "         [1.6492026e-02, 3.5033893e-04, 6.4149164e-05, ..., 6.3522509e-04,\n",
       "          1.3322753e-02, 2.2378089e-02],\n",
       "         [3.4685324e-06, 4.2003503e-05, 8.5981429e-01, ..., 2.0761155e-02,\n",
       "          1.4037226e-04, 1.1309598e-03]], dtype=float32)])"
      ]
     },
     "execution_count": 21,
     "metadata": {},
     "output_type": "execute_result"
    }
   ],
   "source": [
    "run_test_harness(trainX, trainY, testX, testY, n_folds=1, kmnist=True)"
   ]
  },
  {
   "cell_type": "code",
   "execution_count": null,
   "id": "c06eee07",
   "metadata": {},
   "outputs": [],
   "source": []
  }
 ],
 "metadata": {
  "kernelspec": {
   "display_name": "Python 3 (ipykernel)",
   "language": "python",
   "name": "python3"
  },
  "language_info": {
   "codemirror_mode": {
    "name": "ipython",
    "version": 3
   },
   "file_extension": ".py",
   "mimetype": "text/x-python",
   "name": "python",
   "nbconvert_exporter": "python",
   "pygments_lexer": "ipython3",
   "version": "3.8.2"
  }
 },
 "nbformat": 4,
 "nbformat_minor": 5
}
